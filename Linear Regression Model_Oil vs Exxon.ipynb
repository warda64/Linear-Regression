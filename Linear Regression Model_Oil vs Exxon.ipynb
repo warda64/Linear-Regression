{
 "cells": [
  {
   "cell_type": "markdown",
   "metadata": {},
   "source": [
    "# This Notebook have been made by Warda IDRIS on 17/04/2022 by following the 4 parts of this tuto : https://www.youtube.com/watch?v=O56RCPIBb24&t=0s"
   ]
  },
  {
   "cell_type": "markdown",
   "metadata": {},
   "source": [
    "# 1. Finding the goal : finding the relationship between oil price and exxon price"
   ]
  },
  {
   "cell_type": "markdown",
   "metadata": {},
   "source": [
    "# 2. Selection of Data by Importing the data and libraries needed"
   ]
  },
  {
   "cell_type": "code",
   "execution_count": 10,
   "metadata": {},
   "outputs": [
    {
     "data": {
      "text/html": [
       "<div>\n",
       "<style scoped>\n",
       "    .dataframe tbody tr th:only-of-type {\n",
       "        vertical-align: middle;\n",
       "    }\n",
       "\n",
       "    .dataframe tbody tr th {\n",
       "        vertical-align: top;\n",
       "    }\n",
       "\n",
       "    .dataframe thead th {\n",
       "        text-align: right;\n",
       "    }\n",
       "</style>\n",
       "<table border=\"1\" class=\"dataframe\">\n",
       "  <thead>\n",
       "    <tr style=\"text-align: right;\">\n",
       "      <th></th>\n",
       "      <th>exon_price</th>\n",
       "      <th>oil_price</th>\n",
       "    </tr>\n",
       "    <tr>\n",
       "      <th>date</th>\n",
       "      <th></th>\n",
       "      <th></th>\n",
       "    </tr>\n",
       "  </thead>\n",
       "  <tbody>\n",
       "    <tr>\n",
       "      <th>2014-03-28</th>\n",
       "      <td>97.699997</td>\n",
       "      <td>106.64</td>\n",
       "    </tr>\n",
       "    <tr>\n",
       "      <th>2014-03-31</th>\n",
       "      <td>97.680000</td>\n",
       "      <td>105.95</td>\n",
       "    </tr>\n",
       "    <tr>\n",
       "      <th>2014-04-01</th>\n",
       "      <td>97.730003</td>\n",
       "      <td>105.70</td>\n",
       "    </tr>\n",
       "    <tr>\n",
       "      <th>2014-04-02</th>\n",
       "      <td>97.949997</td>\n",
       "      <td>103.37</td>\n",
       "    </tr>\n",
       "    <tr>\n",
       "      <th>2014-04-03</th>\n",
       "      <td>97.930000</td>\n",
       "      <td>104.88</td>\n",
       "    </tr>\n",
       "    <tr>\n",
       "      <th>2014-04-04</th>\n",
       "      <td>97.360001</td>\n",
       "      <td>106.41</td>\n",
       "    </tr>\n",
       "    <tr>\n",
       "      <th>2014-04-07</th>\n",
       "      <td>96.779999</td>\n",
       "      <td>104.89</td>\n",
       "    </tr>\n",
       "    <tr>\n",
       "      <th>2014-04-08</th>\n",
       "      <td>97.449997</td>\n",
       "      <td>105.83</td>\n",
       "    </tr>\n",
       "    <tr>\n",
       "      <th>2014-04-09</th>\n",
       "      <td>97.330002</td>\n",
       "      <td>107.39</td>\n",
       "    </tr>\n",
       "    <tr>\n",
       "      <th>2014-04-10</th>\n",
       "      <td>96.779999</td>\n",
       "      <td>107.10</td>\n",
       "    </tr>\n",
       "  </tbody>\n",
       "</table>\n",
       "</div>"
      ],
      "text/plain": [
       "            exon_price  oil_price\n",
       "date                             \n",
       "2014-03-28   97.699997     106.64\n",
       "2014-03-31   97.680000     105.95\n",
       "2014-04-01   97.730003     105.70\n",
       "2014-04-02   97.949997     103.37\n",
       "2014-04-03   97.930000     104.88\n",
       "2014-04-04   97.360001     106.41\n",
       "2014-04-07   96.779999     104.89\n",
       "2014-04-08   97.449997     105.83\n",
       "2014-04-09   97.330002     107.39\n",
       "2014-04-10   96.779999     107.10"
      ]
     },
     "execution_count": 10,
     "metadata": {},
     "output_type": "execute_result"
    }
   ],
   "source": [
    "#2 Selection of Data by Importing the data and libraries needed\n",
    "\n",
    "#Importing Libraries\n",
    "import pandas as pd #This will make grabbing and transforming the data quick.\n",
    "import numpy as np # for mathematical calculations\n",
    "import matplotlib.pyplot as plt #for data visualisation\n",
    "import statsmodels.api as sm #to evaluate the model\n",
    "import math\n",
    "import seaborn as sns #allows to plot \n",
    "\n",
    "from sklearn.model_selection import train_test_split #to train and predict\n",
    "from sklearn.linear_model import LinearRegression #choosing Linear Regression Model\n",
    "from sklearn.metrics import mean_squared_error, r2_score, mean_absolute_error #to evaluate the model\n",
    "\n",
    "from scipy import stats \n",
    "from scipy.stats import kurtosis, skew #to explore the data\n",
    "\n",
    "%matplotlib inline\n",
    "\n",
    "#Loading data\n",
    "path =r\"C:\\Users\\DZ001095\\Documents\\4- 2022\\0- Data Science\\1- Linear Regression\\Model01\\oil_exxon.xlsx\" #put the path; the r allows us to put one \\\n",
    "price_data = pd.read_excel(path) #load the data \n",
    "\n",
    "# set the index equal to the date column & then drop the old date column\n",
    "price_data.index = pd.to_datetime(price_data['date']) #make sure that it's on format date\n",
    "price_data = price_data.drop(['date'], axis = 1)\n",
    "price_data.head(10) #print the first 10 rows of data"
   ]
  },
  {
   "cell_type": "markdown",
   "metadata": {},
   "source": [
    "# 3. Preprocessing and Clean Data : Dealing with missing values and errors"
   ]
  },
  {
   "cell_type": "code",
   "execution_count": 2,
   "metadata": {},
   "outputs": [
    {
     "data": {
      "text/plain": [
       "exon_price    float64\n",
       "oil_price     float64\n",
       "dtype: object"
      ]
     },
     "execution_count": 2,
     "metadata": {},
     "output_type": "execute_result"
    }
   ],
   "source": [
    "#3 Preprocessing and Clean Data : Dealing with missing values and errors\n",
    "\n",
    "#Check Data Types \n",
    "price_data.dtypes"
   ]
  },
  {
   "cell_type": "code",
   "execution_count": 11,
   "metadata": {},
   "outputs": [
    {
     "data": {
      "text/html": [
       "<div>\n",
       "<style scoped>\n",
       "    .dataframe tbody tr th:only-of-type {\n",
       "        vertical-align: middle;\n",
       "    }\n",
       "\n",
       "    .dataframe tbody tr th {\n",
       "        vertical-align: top;\n",
       "    }\n",
       "\n",
       "    .dataframe thead th {\n",
       "        text-align: right;\n",
       "    }\n",
       "</style>\n",
       "<table border=\"1\" class=\"dataframe\">\n",
       "  <thead>\n",
       "    <tr style=\"text-align: right;\">\n",
       "      <th></th>\n",
       "      <th>exxon_price</th>\n",
       "      <th>oil_price</th>\n",
       "    </tr>\n",
       "    <tr>\n",
       "      <th>date</th>\n",
       "      <th></th>\n",
       "      <th></th>\n",
       "    </tr>\n",
       "  </thead>\n",
       "  <tbody>\n",
       "    <tr>\n",
       "      <th>2014-03-28</th>\n",
       "      <td>97.699997</td>\n",
       "      <td>106.64</td>\n",
       "    </tr>\n",
       "    <tr>\n",
       "      <th>2014-03-31</th>\n",
       "      <td>97.680000</td>\n",
       "      <td>105.95</td>\n",
       "    </tr>\n",
       "    <tr>\n",
       "      <th>2014-04-01</th>\n",
       "      <td>97.730003</td>\n",
       "      <td>105.70</td>\n",
       "    </tr>\n",
       "    <tr>\n",
       "      <th>2014-04-02</th>\n",
       "      <td>97.949997</td>\n",
       "      <td>103.37</td>\n",
       "    </tr>\n",
       "    <tr>\n",
       "      <th>2014-04-03</th>\n",
       "      <td>97.930000</td>\n",
       "      <td>104.88</td>\n",
       "    </tr>\n",
       "  </tbody>\n",
       "</table>\n",
       "</div>"
      ],
      "text/plain": [
       "            exxon_price  oil_price\n",
       "date                              \n",
       "2014-03-28    97.699997     106.64\n",
       "2014-03-31    97.680000     105.95\n",
       "2014-04-01    97.730003     105.70\n",
       "2014-04-02    97.949997     103.37\n",
       "2014-04-03    97.930000     104.88"
      ]
     },
     "execution_count": 11,
     "metadata": {},
     "output_type": "execute_result"
    }
   ],
   "source": [
    "#3 Preprocessing and Clean Data : Dealing with missing values and errors\n",
    "\n",
    "#rename columns\n",
    "# define the new name.\n",
    "new_column_names = {'exon_price':'exxon_price'}\n",
    "\n",
    "# rename the column\n",
    "price_data = price_data.rename(columns = new_column_names)\n",
    "price_data.head()"
   ]
  },
  {
   "cell_type": "code",
   "execution_count": 12,
   "metadata": {},
   "outputs": [
    {
     "data": {
      "text/plain": [
       "exxon_price    False\n",
       "oil_price       True\n",
       "dtype: bool"
      ]
     },
     "metadata": {},
     "output_type": "display_data"
    },
    {
     "data": {
      "text/plain": [
       "exxon_price    False\n",
       "oil_price      False\n",
       "dtype: bool"
      ]
     },
     "execution_count": 12,
     "metadata": {},
     "output_type": "execute_result"
    }
   ],
   "source": [
    "#3 Preprocessing and Clean Data : Dealing with missing values and errors\n",
    "\n",
    "# check for missing values\n",
    "display(price_data.isna().any()) #if one column returns True, this means that it has missing values\n",
    "\n",
    "# drop any missing values\n",
    "price_data = price_data.dropna() #drop those missing values_we can use fillna to fill them instead of droping\n",
    "\n",
    "# let's check to make sure they've all been removed.\n",
    "price_data.isna().any()"
   ]
  },
  {
   "cell_type": "code",
   "execution_count": 13,
   "metadata": {},
   "outputs": [
    {
     "data": {
      "image/png": "[encoded data removed]",
      "text/plain": [
       "<Figure size 432x288 with 1 Axes>"
      ]
     },
     "metadata": {
      "needs_background": "light"
     },
     "output_type": "display_data"
    }
   ],
   "source": [
    "#4 Explore Data : Plot data, measure correlation, get statistical summary, check skew; outliers and kurtosis\n",
    "\n",
    "#Plot data to better visualise it\n",
    "# define the x & y data.\n",
    "x = price_data['oil_price']  #X axis is oil price\n",
    "y = price_data['exxon_price'] #Y axis is exxon price\n",
    "\n",
    "# create the scatter plot.\n",
    "plt.plot(x, y, 'o', color ='red', label = 'Daily Price')\n",
    "\n",
    "# make sure it's formatted.\n",
    "plt.title(\"Exxon Vs. Oil\")\n",
    "plt.xlabel(\"Oil\") #the label of x axis\n",
    "plt.ylabel(\"Exxon Mobile\") #the Label of y axis\n",
    "plt.legend() #put legend\n",
    "\n",
    "plt.show() #show the plot"
   ]
  },
  {
   "cell_type": "markdown",
   "metadata": {},
   "source": [
    "# 4. Explore Data : Plot data, measure correlation, get statistical summary, check skew; outliers and kurtosis\n"
   ]
  },
  {
   "cell_type": "code",
   "execution_count": 6,
   "metadata": {},
   "outputs": [
    {
     "data": {
      "text/html": [
       "<div>\n",
       "<style scoped>\n",
       "    .dataframe tbody tr th:only-of-type {\n",
       "        vertical-align: middle;\n",
       "    }\n",
       "\n",
       "    .dataframe tbody tr th {\n",
       "        vertical-align: top;\n",
       "    }\n",
       "\n",
       "    .dataframe thead th {\n",
       "        text-align: right;\n",
       "    }\n",
       "</style>\n",
       "<table border=\"1\" class=\"dataframe\">\n",
       "  <thead>\n",
       "    <tr style=\"text-align: right;\">\n",
       "      <th></th>\n",
       "      <th>exxon_price</th>\n",
       "      <th>oil_price</th>\n",
       "    </tr>\n",
       "  </thead>\n",
       "  <tbody>\n",
       "    <tr>\n",
       "      <th>exxon_price</th>\n",
       "      <td>1.00000</td>\n",
       "      <td>0.60132</td>\n",
       "    </tr>\n",
       "    <tr>\n",
       "      <th>oil_price</th>\n",
       "      <td>0.60132</td>\n",
       "      <td>1.00000</td>\n",
       "    </tr>\n",
       "  </tbody>\n",
       "</table>\n",
       "</div>"
      ],
      "text/plain": [
       "             exxon_price  oil_price\n",
       "exxon_price      1.00000    0.60132\n",
       "oil_price        0.60132    1.00000"
      ]
     },
     "metadata": {},
     "output_type": "display_data"
    },
    {
     "data": {
      "text/html": [
       "<div>\n",
       "<style scoped>\n",
       "    .dataframe tbody tr th:only-of-type {\n",
       "        vertical-align: middle;\n",
       "    }\n",
       "\n",
       "    .dataframe tbody tr th {\n",
       "        vertical-align: top;\n",
       "    }\n",
       "\n",
       "    .dataframe thead th {\n",
       "        text-align: right;\n",
       "    }\n",
       "</style>\n",
       "<table border=\"1\" class=\"dataframe\">\n",
       "  <thead>\n",
       "    <tr style=\"text-align: right;\">\n",
       "      <th></th>\n",
       "      <th>exxon_price</th>\n",
       "      <th>oil_price</th>\n",
       "    </tr>\n",
       "  </thead>\n",
       "  <tbody>\n",
       "    <tr>\n",
       "      <th>count</th>\n",
       "      <td>1248.000000</td>\n",
       "      <td>1248.000000</td>\n",
       "    </tr>\n",
       "    <tr>\n",
       "      <th>mean</th>\n",
       "      <td>84.802796</td>\n",
       "      <td>61.935000</td>\n",
       "    </tr>\n",
       "    <tr>\n",
       "      <th>std</th>\n",
       "      <td>7.424687</td>\n",
       "      <td>19.288424</td>\n",
       "    </tr>\n",
       "    <tr>\n",
       "      <th>min</th>\n",
       "      <td>68.120003</td>\n",
       "      <td>26.010000</td>\n",
       "    </tr>\n",
       "    <tr>\n",
       "      <th>25%</th>\n",
       "      <td>80.190002</td>\n",
       "      <td>48.162500</td>\n",
       "    </tr>\n",
       "    <tr>\n",
       "      <th>50%</th>\n",
       "      <td>83.024998</td>\n",
       "      <td>57.120000</td>\n",
       "    </tr>\n",
       "    <tr>\n",
       "      <th>75%</th>\n",
       "      <td>88.529999</td>\n",
       "      <td>70.725000</td>\n",
       "    </tr>\n",
       "    <tr>\n",
       "      <th>max</th>\n",
       "      <td>104.379997</td>\n",
       "      <td>115.190000</td>\n",
       "    </tr>\n",
       "  </tbody>\n",
       "</table>\n",
       "</div>"
      ],
      "text/plain": [
       "       exxon_price    oil_price\n",
       "count  1248.000000  1248.000000\n",
       "mean     84.802796    61.935000\n",
       "std       7.424687    19.288424\n",
       "min      68.120003    26.010000\n",
       "25%      80.190002    48.162500\n",
       "50%      83.024998    57.120000\n",
       "75%      88.529999    70.725000\n",
       "max     104.379997   115.190000"
      ]
     },
     "metadata": {},
     "output_type": "display_data"
    },
    {
     "data": {
      "text/plain": [
       "array([[<AxesSubplot:title={'center':'exxon_price'}>,\n",
       "        <AxesSubplot:title={'center':'oil_price'}>]], dtype=object)"
      ]
     },
     "execution_count": 6,
     "metadata": {},
     "output_type": "execute_result"
    },
    {
     "data": {
      "image/png": "[encoded data removed]",
      "text/plain": [
       "<Figure size 432x288 with 2 Axes>"
      ]
     },
     "metadata": {
      "needs_background": "light"
     },
     "output_type": "display_data"
    }
   ],
   "source": [
    "#4 Explore Data : Plot data, measure correlation, get statistical summary, check skew; outliers and kurtosis\n",
    "\n",
    "#Measure the correlation \n",
    "#Very strong relationship (|r|>0.8 =>)\n",
    "#Strong relationship (0.6≤|r|)\n",
    "#Moderate relationship (0.4≤|r|)\n",
    "#Weak relationship (0.2≤|r|)\n",
    "#Very weak relationship (|r|)\n",
    "\n",
    "display(price_data.corr()) #strong relationship\n",
    "\n",
    "\n",
    "# Get statistical summary.\n",
    "display(price_data.describe()) #display function is used to display many outputs at once\n",
    "\n",
    "#Overview of data to check if there is skew and kurtosis\n",
    "price_data.hist(grid = False, color = 'red')"
   ]
  },
  {
   "cell_type": "markdown",
   "metadata": {},
   "source": [
    "### a. Kurtosis :"
   ]
  },
  {
   "cell_type": "markdown",
   "metadata": {},
   "source": [
    "* fisher method compares to zero.\n",
    "* Pearson method compares to 3\n",
    "* Results : \n",
    "    - kurtosis ≈3 (excess ≈0) is called mesokurtic. This is a normal distribution\n",
    "    - kurtosis <3 (excess kurtosis <0) is called platykurtic. \n",
    "    - kurtosis >3 (excess kurtosis >0) is called leptokurti"
   ]
  },
  {
   "cell_type": "markdown",
   "metadata": {},
   "source": [
    "### b. Skeweness : "
   ]
  },
  {
   "cell_type": "markdown",
   "metadata": {},
   "source": [
    "* If skewness is less than −1 or greater than +1, the distribution is highly skewed.\n",
    "* If skewness is between −1 and −½ or between +½ and +1, the distribution is moderately skewed.\n",
    "* If skewness is between −½ and +½, the distribution is approximately symmetric."
   ]
  },
  {
   "cell_type": "code",
   "execution_count": 7,
   "metadata": {},
   "outputs": [
    {
     "data": {
      "text/plain": [
       "'Exxon Excess Kurtosis: 0.088'"
      ]
     },
     "metadata": {},
     "output_type": "display_data"
    },
    {
     "data": {
      "text/plain": [
       "'Oil Excess Kurtosis: 0.53'"
      ]
     },
     "metadata": {},
     "output_type": "display_data"
    },
    {
     "data": {
      "text/plain": [
       "'Exxon Skew: 0.66'"
      ]
     },
     "metadata": {},
     "output_type": "display_data"
    },
    {
     "data": {
      "text/plain": [
       "'Oil Skew: 1.0'"
      ]
     },
     "metadata": {},
     "output_type": "display_data"
    },
    {
     "name": "stderr",
     "output_type": "stream",
     "text": [
      "C:\\ProgramData\\Anaconda3\\lib\\site-packages\\seaborn\\distributions.py:2551: FutureWarning: `distplot` is a deprecated function and will be removed in a future version. Please adapt your code to use either `displot` (a figure-level function with similar flexibility) or `histplot` (an axes-level function for histograms).\n",
      "  warnings.warn(msg, FutureWarning)\n",
      "C:\\ProgramData\\Anaconda3\\lib\\site-packages\\seaborn\\distributions.py:2551: FutureWarning: `distplot` is a deprecated function and will be removed in a future version. Please adapt your code to use either `displot` (a figure-level function with similar flexibility) or `histplot` (an axes-level function for histograms).\n",
      "  warnings.warn(msg, FutureWarning)\n",
      "C:\\ProgramData\\Anaconda3\\lib\\site-packages\\seaborn\\distributions.py:2551: FutureWarning: `distplot` is a deprecated function and will be removed in a future version. Please adapt your code to use either `displot` (a figure-level function with similar flexibility) or `histplot` (an axes-level function for histograms).\n",
      "  warnings.warn(msg, FutureWarning)\n",
      "C:\\ProgramData\\Anaconda3\\lib\\site-packages\\seaborn\\distributions.py:2551: FutureWarning: `distplot` is a deprecated function and will be removed in a future version. Please adapt your code to use either `displot` (a figure-level function with similar flexibility) or `histplot` (an axes-level function for histograms).\n",
      "  warnings.warn(msg, FutureWarning)\n"
     ]
    },
    {
     "data": {
      "image/png": "[encoded data removed]",
      "text/plain": [
       "<Figure size 720x720 with 4 Axes>"
      ]
     },
     "metadata": {
      "needs_background": "light"
     },
     "output_type": "display_data"
    }
   ],
   "source": [
    "#4 Explore Data : Plot data, measure correlation, get statistical summary, check skew; outliers and kurtosis\n",
    "\n",
    "# calculate the excess kurtosis using the fisher method. The alternative is Pearson which calculates regular kurtosis.\n",
    "#fisher method compares to zero. Pearson method compares to 3\n",
    "#kurtosis ≈3 (excess ≈0) is called mesokurtic. This is a normal distribution\n",
    "#kurtosis <3 (excess kurtosis <0) is called platykurtic.\n",
    "#kurtosis >3 (excess kurtosis >0) is called leptokurti\n",
    "\n",
    "exxon_kurtosis = kurtosis(price_data['exxon_price'], fisher = True)\n",
    "oil_kurtosis = kurtosis(price_data['oil_price'], fisher = True)\n",
    "\n",
    "\n",
    "# calculate the skewness\n",
    "#If skewness is less than −1 or greater than +1, the distribution is highly skewed.\n",
    "#If skewness is between −1 and −½ or between +½ and +1, the distribution is moderately skewed.\n",
    "#If skewness is between −½ and +½, the distribution is approximately symmetric.\n",
    "\n",
    "exxon_skew = skew(price_data['exxon_price'])\n",
    "oil_skew = skew(price_data['oil_price'])\n",
    "\n",
    "display(\"Exxon Excess Kurtosis: {:.2}\".format(exxon_kurtosis))  # this looks fine\n",
    "display(\"Oil Excess Kurtosis: {:.2}\".format(oil_kurtosis))      # this looks fine\n",
    "\n",
    "display(\"Exxon Skew: {:.2}\".format(exxon_skew))          # moderately skewed\n",
    "display(\"Oil Skew: {:.2}\".format(oil_skew))              # moderately skewed, it's a little high but we will accept it.\n",
    "\n",
    "#plot the data for each column\n",
    "f, axes = plt.subplots(2, 2, figsize=(10, 10), sharex=True)\n",
    "sns.distplot( price_data['exxon_price'] , color=\"blue\", ax=axes[0, 0])\n",
    "sns.distplot( price_data['oil_price'] , color=\"teal\", ax=axes[1, 0])\n",
    "sns.distplot( price_data['exxon_price'] , color=\"red\", ax=axes[0, 1])\n",
    "sns.distplot( price_data['oil_price'] , color=\"green\", ax=axes[1, 1])\n",
    "plt.show()"
   ]
  },
  {
   "cell_type": "markdown",
   "metadata": {},
   "source": [
    "# 5. Build the Model : Train, test, split\n"
   ]
  },
  {
   "cell_type": "code",
   "execution_count": 8,
   "metadata": {},
   "outputs": [
    {
     "data": {
      "text/plain": [
       "LinearRegression()"
      ]
     },
     "execution_count": 8,
     "metadata": {},
     "output_type": "execute_result"
    }
   ],
   "source": [
    "#5 Build the Model : Train, test, split\n",
    "# define our input variable (X) & output variable.\n",
    "\n",
    "Y = price_data.drop('oil_price', axis = 1) #output will be exxon price the one we want to predict\n",
    "X = price_data[['oil_price']] #input will be oil price the one in relationship with exxon price\n",
    "\n",
    "# Split X and y into X_\n",
    "X_train, X_test, y_train, y_test = train_test_split(X, Y, test_size=0.30, random_state=1) #using train_test_split of sklearn.model.selection\n",
    "\n",
    "# create a Linear Regression model object.\n",
    "regression_model = LinearRegression() #get the model from sklearn.linear_model\n",
    "\n",
    "# pass through the X_train & y_train data set.\n",
    "regression_model.fit(X_train, y_train) #fit the model with our splited data X and Y\n"
   ]
  },
  {
   "cell_type": "markdown",
   "metadata": {},
   "source": [
    "Y= B0+B1X \n",
    "finding B0(intercept) and B1(coefficient)"
   ]
  },
  {
   "cell_type": "code",
   "execution_count": 9,
   "metadata": {},
   "outputs": [
    {
     "name": "stdout",
     "output_type": "stream",
     "text": [
      "The Coefficient for our model is 0.24\n",
      "The intercept for our model is 70.01\n"
     ]
    }
   ],
   "source": [
    "# let's grab the coefficient of our model and the intercept.\n",
    "intercept = regression_model.intercept_[0] #B0\n",
    "coefficient = regression_model.coef_[0][0] #B1\n",
    "\n",
    "print(\"The Coefficient for our model is {:.2}\".format(coefficient))\n",
    "print(\"The intercept for our model is {:.4}\".format(intercept))\n",
    "\n",
    "#Interpreting the coefficient, we would say that a single unit increase in oil is associated with a 0.24 increase in the price of Exxon Mobile stock. We are NOT CLAIMING CAUSATION, just association."
   ]
  },
  {
   "cell_type": "code",
   "execution_count": 14,
   "metadata": {},
   "outputs": [
    {
     "name": "stdout",
     "output_type": "stream",
     "text": [
      "The predicted value is 85.95\n"
     ]
    }
   ],
   "source": [
    "# let's test a prediction\n",
    "\n",
    "prediction = regression_model.predict([[67.33]])\n",
    "predicted_value = prediction[0][0]\n",
    "print(\"The predicted value is {:.4}\".format(predicted_value))"
   ]
  },
  {
   "cell_type": "code",
   "execution_count": 15,
   "metadata": {},
   "outputs": [
    {
     "data": {
      "text/plain": [
       "array([[82.23530265],\n",
       "       [82.87451035],\n",
       "       [81.48245802],\n",
       "       [78.9256272 ],\n",
       "       [84.01324704]])"
      ]
     },
     "execution_count": 15,
     "metadata": {},
     "output_type": "execute_result"
    }
   ],
   "source": [
    "# Get multiple predictions.\n",
    "y_predict = regression_model.predict(X_test) #predicting by using the test data\n",
    "\n",
    "# Show the first 5 predictions\n",
    "y_predict[:5]"
   ]
  },
  {
   "cell_type": "markdown",
   "metadata": {},
   "source": [
    "# 6. Evaluating the Model"
   ]
  },
  {
   "cell_type": "code",
   "execution_count": 16,
   "metadata": {},
   "outputs": [],
   "source": [
    "# define our intput\n",
    "X2 = sm.add_constant(X) #a second variable to evaluate the model. using statsmodel.api \n",
    "\n",
    "# create a OLS model.\n",
    "model = sm.OLS(Y, X2) # ordinary least squares \n",
    "\n",
    "# fit the data\n",
    "est = model.fit() #fit the model"
   ]
  },
  {
   "cell_type": "markdown",
   "metadata": {},
   "source": [
    "### * Confidence Intervals :"
   ]
  },
  {
   "cell_type": "markdown",
   "metadata": {},
   "source": [
    " By default that the calculated using 95% intervals.\n",
    "* Want a narrower range? Decrease your confidence.\n",
    "* Want a wider range? Increase your confidence."
   ]
  },
  {
   "cell_type": "code",
   "execution_count": 17,
   "metadata": {},
   "outputs": [
    {
     "data": {
      "text/html": [
       "<div>\n",
       "<style scoped>\n",
       "    .dataframe tbody tr th:only-of-type {\n",
       "        vertical-align: middle;\n",
       "    }\n",
       "\n",
       "    .dataframe tbody tr th {\n",
       "        vertical-align: top;\n",
       "    }\n",
       "\n",
       "    .dataframe thead th {\n",
       "        text-align: right;\n",
       "    }\n",
       "</style>\n",
       "<table border=\"1\" class=\"dataframe\">\n",
       "  <thead>\n",
       "    <tr style=\"text-align: right;\">\n",
       "      <th></th>\n",
       "      <th>0</th>\n",
       "      <th>1</th>\n",
       "    </tr>\n",
       "  </thead>\n",
       "  <tbody>\n",
       "    <tr>\n",
       "      <th>const</th>\n",
       "      <td>69.358126</td>\n",
       "      <td>71.57579</td>\n",
       "    </tr>\n",
       "    <tr>\n",
       "      <th>oil_price</th>\n",
       "      <td>0.214372</td>\n",
       "      <td>0.24856</td>\n",
       "    </tr>\n",
       "  </tbody>\n",
       "</table>\n",
       "</div>"
      ],
      "text/plain": [
       "                   0         1\n",
       "const      69.358126  71.57579\n",
       "oil_price   0.214372   0.24856"
      ]
     },
     "execution_count": 17,
     "metadata": {},
     "output_type": "execute_result"
    }
   ],
   "source": [
    "# make some confidence intervals, 95% by default.\n",
    "est.conf_int() \n",
    "#Interpreting the output above, we would say that with 95% confidence:\n",
    "#the oil_price coefficient(B0) exists between 0.214 & 0.248.\n",
    "#the constant (B0) exists between 69.35 & 71.57"
   ]
  },
  {
   "cell_type": "code",
   "execution_count": 18,
   "metadata": {},
   "outputs": [
    {
     "data": {
      "text/html": [
       "<div>\n",
       "<style scoped>\n",
       "    .dataframe tbody tr th:only-of-type {\n",
       "        vertical-align: middle;\n",
       "    }\n",
       "\n",
       "    .dataframe tbody tr th {\n",
       "        vertical-align: top;\n",
       "    }\n",
       "\n",
       "    .dataframe thead th {\n",
       "        text-align: right;\n",
       "    }\n",
       "</style>\n",
       "<table border=\"1\" class=\"dataframe\">\n",
       "  <thead>\n",
       "    <tr style=\"text-align: right;\">\n",
       "      <th></th>\n",
       "      <th>0</th>\n",
       "      <th>1</th>\n",
       "    </tr>\n",
       "  </thead>\n",
       "  <tbody>\n",
       "    <tr>\n",
       "      <th>const</th>\n",
       "      <td>69.008888</td>\n",
       "      <td>71.925028</td>\n",
       "    </tr>\n",
       "    <tr>\n",
       "      <th>oil_price</th>\n",
       "      <td>0.208988</td>\n",
       "      <td>0.253944</td>\n",
       "    </tr>\n",
       "  </tbody>\n",
       "</table>\n",
       "</div>"
      ],
      "text/plain": [
       "                   0          1\n",
       "const      69.008888  71.925028\n",
       "oil_price   0.208988   0.253944"
      ]
     },
     "execution_count": 18,
     "metadata": {},
     "output_type": "execute_result"
    }
   ],
   "source": [
    "# use 99 % CI\n",
    "est.conf_int(alpha=0.01) \n",
    "#Interpreting the output above  we would say that with 99% confidence :\n",
    "#the oil_price coefficient(B1) exists between 0.208 & 0.253.\n",
    "#the constant (B0) exists between 69.008 & 71.95"
   ]
  },
  {
   "cell_type": "markdown",
   "metadata": {},
   "source": [
    "### * Hypothesis Testing :"
   ]
  },
  {
   "cell_type": "markdown",
   "metadata": {},
   "source": [
    "* Null Hypothesis: There is no relationship between the price of oil and the price of Exxon. ==> The coefficient equals 0.\n",
    "* Alternative Hypothesis: There is a relationship between the price of oil and the price of Exxon. ==> The coefficient does not equal to 0.\n",
    "\n",
    "- If we reject the null, we are saying there is a relationship, and the coefficient does not equal 0.\n",
    "\n",
    "- If we fail to reject the null, we are saying there is no relationship, and the coefficient does equal 0."
   ]
  },
  {
   "cell_type": "markdown",
   "metadata": {},
   "source": [
    "The p-value represents the probability that the coefficient equals 0. We want a p-value that is less than 0.05 if it is we can reject the null hypothesis."
   ]
  },
  {
   "cell_type": "code",
   "execution_count": 19,
   "metadata": {},
   "outputs": [
    {
     "data": {
      "text/plain": [
       "const         0.000000e+00\n",
       "oil_price    1.423529e-123\n",
       "dtype: float64"
      ]
     },
     "execution_count": 19,
     "metadata": {},
     "output_type": "execute_result"
    }
   ],
   "source": [
    "# estimate the p-values.\n",
    "est.pvalues #the pvalue = 1.423529e-123 and represents the probability that the relationship is equal to 0 ==> We reject the Null Hypothesis"
   ]
  },
  {
   "cell_type": "markdown",
   "metadata": {},
   "source": [
    "# 7. Model Fit : compare the actual result with the predicted one (residual) and calculate the errors "
   ]
  },
  {
   "cell_type": "markdown",
   "metadata": {},
   "source": [
    "* Mean Absolute Error (MAE): Is the mean of the absolute value of the errors. This metric gives an idea of magnitude but no idea of direction (too high or too low).\n",
    "\n",
    "* Mean Squared Error (MSE): Is the mean of the squared errors.MSE is more popular than MAE because MSE \"punishes\" more significant errors.\n",
    "\n",
    "* Root Mean Squared Error (RMSE): Is the square root of the mean of the squared errors. RMSE is even more favored because it allows us to interpret the output in y-units."
   ]
  },
  {
   "cell_type": "code",
   "execution_count": 20,
   "metadata": {},
   "outputs": [
    {
     "name": "stdout",
     "output_type": "stream",
     "text": [
      "MSE 38.4\n",
      "MAE 5.03\n",
      "RMSE 6.2\n"
     ]
    }
   ],
   "source": [
    "# calculate the mean squared error.\n",
    "model_mse = mean_squared_error(y_test, y_predict)\n",
    "\n",
    "# calculate the mean absolute error.\n",
    "model_mae = mean_absolute_error(y_test, y_predict)\n",
    "\n",
    "# calulcate the root mean squared error\n",
    "model_rmse =  math.sqrt(model_mse)\n",
    "\n",
    "# display the output\n",
    "print(\"MSE {:.3}\".format(model_mse))\n",
    "print(\"MAE {:.3}\".format(model_mae))\n",
    "print(\"RMSE {:.3}\".format(model_rmse))"
   ]
  },
  {
   "cell_type": "markdown",
   "metadata": {},
   "source": [
    "### * R Squared : "
   ]
  },
  {
   "cell_type": "markdown",
   "metadata": {},
   "source": [
    "* The R-Squared metric provides us a way to measure the goodness of fit or how well our data fits the model. The higher the R-Squared metric, the better the data fit our model.\n",
    "However, we have to know the limitations of R-Square. \n",
    "One limitation is that R-Square increases as the number of feature increases in our model, so it does not pay to select the model with the highest R-Square.\n",
    "* A more popular metric is the adjusted R-Square which penalizes more complex models. "
   ]
  },
  {
   "cell_type": "code",
   "execution_count": 22,
   "metadata": {},
   "outputs": [
    {
     "name": "stdout",
     "output_type": "stream",
     "text": [
      "R2: 0.31\n"
     ]
    }
   ],
   "source": [
    "model_r2 = r2_score(y_test, y_predict)\n",
    "print(\"R2: {:.2}\".format(model_r2))"
   ]
  },
  {
   "cell_type": "code",
   "execution_count": 24,
   "metadata": {},
   "outputs": [
    {
     "name": "stdout",
     "output_type": "stream",
     "text": [
      "                            OLS Regression Results                            \n",
      "==============================================================================\n",
      "Dep. Variable:            exxon_price   R-squared:                       0.362\n",
      "Model:                            OLS   Adj. R-squared:                  0.361\n",
      "Method:                 Least Squares   F-statistic:                     705.7\n",
      "Date:                Mon, 18 Apr 2022   Prob (F-statistic):          1.42e-123\n",
      "Time:                        15:19:37   Log-Likelihood:                -3992.3\n",
      "No. Observations:                1248   AIC:                             7989.\n",
      "Df Residuals:                    1246   BIC:                             7999.\n",
      "Df Model:                           1                                         \n",
      "Covariance Type:            nonrobust                                         \n",
      "==============================================================================\n",
      "                 coef    std err          t      P>|t|      [0.025      0.975]\n",
      "------------------------------------------------------------------------------\n",
      "const         70.4670      0.565    124.678      0.000      69.358      71.576\n",
      "oil_price      0.2315      0.009     26.565      0.000       0.214       0.249\n",
      "==============================================================================\n",
      "Omnibus:                       61.541   Durbin-Watson:                   0.024\n",
      "Prob(Omnibus):                  0.000   Jarque-Bera (JB):               31.074\n",
      "Skew:                          -0.198   Prob(JB):                     1.79e-07\n",
      "Kurtosis:                       2.337   Cond. No.                         218.\n",
      "==============================================================================\n",
      "\n",
      "Notes:\n",
      "[1] Standard Errors assume that the covariance matrix of the errors is correctly specified.\n",
      "                            OLS Regression Results                            \n",
      "==============================================================================\n",
      "Dep. Variable:            exxon_price   R-squared:                       0.362\n",
      "Model:                            OLS   Adj. R-squared:                  0.361\n",
      "Method:                 Least Squares   F-statistic:                     705.7\n",
      "Date:                Mon, 18 Apr 2022   Prob (F-statistic):          1.42e-123\n",
      "Time:                        15:19:37   Log-Likelihood:                -3992.3\n",
      "No. Observations:                1248   AIC:                             7989.\n",
      "Df Residuals:                    1246   BIC:                             7999.\n",
      "Df Model:                           1                                         \n",
      "Covariance Type:            nonrobust                                         \n",
      "==============================================================================\n",
      "                 coef    std err          t      P>|t|      [0.005      0.995]\n",
      "------------------------------------------------------------------------------\n",
      "const         70.4670      0.565    124.678      0.000      69.009      71.925\n",
      "oil_price      0.2315      0.009     26.565      0.000       0.209       0.254\n",
      "==============================================================================\n",
      "Omnibus:                       61.541   Durbin-Watson:                   0.024\n",
      "Prob(Omnibus):                  0.000   Jarque-Bera (JB):               31.074\n",
      "Skew:                          -0.198   Prob(JB):                     1.79e-07\n",
      "Kurtosis:                       2.337   Cond. No.                         218.\n",
      "==============================================================================\n",
      "\n",
      "Notes:\n",
      "[1] Standard Errors assume that the covariance matrix of the errors is correctly specified.\n"
     ]
    }
   ],
   "source": [
    "# print out a summary using 95% CI\n",
    "print(est.summary()) #using statsmodel.api\n",
    "\n",
    "# print out a summary using 99% CI\n",
    "print(est.summary(alpha=0.01)) #using statsmodel.api"
   ]
  },
  {
   "cell_type": "code",
   "execution_count": 25,
   "metadata": {},
   "outputs": [
    {
     "data": {
      "image/png": "[encoded data removed]",
      "text/plain": [
       "<Figure size 432x288 with 1 Axes>"
      ]
     },
     "metadata": {
      "needs_background": "light"
     },
     "output_type": "display_data"
    }
   ],
   "source": [
    "# Grab the residuals & then call the hist() method\n",
    "(y_test - y_predict).hist(grid = False, color = 'royalblue')\n",
    "plt.title(\"Model Residuals\")\n",
    "plt.show()"
   ]
  },
  {
   "cell_type": "code",
   "execution_count": 26,
   "metadata": {},
   "outputs": [
    {
     "data": {
      "image/png": "[encoded data removed]",
      "text/plain": [
       "<Figure size 432x288 with 1 Axes>"
      ]
     },
     "metadata": {
      "needs_background": "light"
     },
     "output_type": "display_data"
    },
    {
     "name": "stdout",
     "output_type": "stream",
     "text": [
      "Oil coefficient:\u001b[1m0.24\u001b[0m\n",
      "Mean squared error: \u001b[1m38.44\u001b[0m\n",
      "Root Mean squared error: \u001b[1m6.2\u001b[0m\n",
      "R2 score: \u001b[1m0.31\u001b[0m\n"
     ]
    }
   ],
   "source": [
    "# Plot outputs\n",
    "plt.scatter(X_test, y_test,  color='gainsboro', label = 'Price')\n",
    "plt.plot(X_test, y_predict, color='royalblue', linewidth = 3, linestyle= '-',label ='Regression Line')\n",
    "\n",
    "plt.title(\"Linear Regression Exxon Mobile Vs. Oil\")\n",
    "plt.xlabel(\"Oil\")\n",
    "plt.ylabel(\"Exxon Mobile\")\n",
    "plt.legend()\n",
    "plt.show()\n",
    "\n",
    "# The coefficients\n",
    "print('Oil coefficient:' + '\\033[1m' + '{:.2}''\\033[0m'.format(regression_model.coef_[0][0]))\n",
    "\n",
    "# The mean squared error\n",
    "print('Mean squared error: ' + '\\033[1m' + '{:.4}''\\033[0m'.format(model_mse))\n",
    "\n",
    "# The mean squared error\n",
    "print('Root Mean squared error: ' + '\\033[1m' + '{:.4}''\\033[0m'.format(math.sqrt(model_mse)))\n",
    "\n",
    "# Explained variance score: 1 is perfect prediction\n",
    "print('R2 score: '+ '\\033[1m' + '{:.2}''\\033[0m'.format(r2_score(y_test,y_predict)))"
   ]
  },
  {
   "cell_type": "code",
   "execution_count": 28,
   "metadata": {},
   "outputs": [
    {
     "data": {
      "text/plain": [
       "array([[85.94980965]])"
      ]
     },
     "execution_count": 28,
     "metadata": {},
     "output_type": "execute_result"
    }
   ],
   "source": [
    "#save the model to future use\n",
    "import pickle\n",
    "\n",
    "# pickle the model.\n",
    "with open('my_linear_regression.sav','wb') as f:\n",
    "     pickle.dump(regression_model,f)\n",
    "\n",
    "# load it back in.\n",
    "with open('my_linear_regression.sav', 'rb') as pickle_file:\n",
    "     regression_model_2 = pickle.load(pickle_file)\n",
    "\n",
    "# make a new prediction.\n",
    "regression_model_2.predict([[67.33]]) #make a prediction using the saved model"
   ]
  },
  {
   "cell_type": "code",
   "execution_count": null,
   "metadata": {},
   "outputs": [],
   "source": []
  }
 ],
 "metadata": {
  "kernelspec": {
   "display_name": "Python 3",
   "language": "python",
   "name": "python3"
  },
  "language_info": {
   "codemirror_mode": {
    "name": "ipython",
    "version": 3
   },
   "file_extension": ".py",
   "mimetype": "text/x-python",
   "name": "python",
   "nbconvert_exporter": "python",
   "pygments_lexer": "ipython3",
   "version": "3.8.5"
  }
 },
 "nbformat": 4,
 "nbformat_minor": 4
}
